{
 "cells": [
  {
   "cell_type": "code",
   "execution_count": 10,
   "metadata": {},
   "outputs": [],
   "source": [
    "import pandas as pd\n",
    "import numpy as np\n",
    "from sklearn.preprocessing import MinMaxScaler\n"
   ]
  },
  {
   "cell_type": "code",
   "execution_count": 3,
   "metadata": {},
   "outputs": [],
   "source": [
    "df = pd.read_csv('./processed_errors.csv', header=None, names=['endTime', 'startTime', 'level', 'x','y'])"
   ]
  },
  {
   "cell_type": "code",
   "execution_count": 4,
   "metadata": {},
   "outputs": [],
   "source": [
    "#bucketing, 500x500. origin is the top left of the map\n",
    "#these boundaries are the max/min lat/lon in the entire dataset.\n",
    "#max_lat = 20.108879999999999 \n",
    "#origin_lat = 18.807134\n",
    "#max_lon = -98.195071\n",
    "#origin_lon = -99.662641\n",
    "\n",
    "#these boundaries are the max/min lat/lon for mexico city only.\n",
    "max_lat = 19.595892\n",
    "origin_lat = 19.220471\n",
    "max_lon = -98.828109\n",
    "origin_lon = -99.438230"
   ]
  },
  {
   "cell_type": "code",
   "execution_count": 6,
   "metadata": {},
   "outputs": [
    {
     "name": "stderr",
     "output_type": "stream",
     "text": [
      "/Users/gaoag/anaconda3/lib/python3.6/site-packages/ipykernel_launcher.py:7: SettingWithCopyWarning: \n",
      "A value is trying to be set on a copy of a slice from a DataFrame.\n",
      "Try using .loc[row_indexer,col_indexer] = value instead\n",
      "\n",
      "See the caveats in the documentation: http://pandas.pydata.org/pandas-docs/stable/indexing.html#indexing-view-versus-copy\n",
      "  import sys\n",
      "/Users/gaoag/anaconda3/lib/python3.6/site-packages/ipykernel_launcher.py:8: SettingWithCopyWarning: \n",
      "A value is trying to be set on a copy of a slice from a DataFrame.\n",
      "Try using .loc[row_indexer,col_indexer] = value instead\n",
      "\n",
      "See the caveats in the documentation: http://pandas.pydata.org/pandas-docs/stable/indexing.html#indexing-view-versus-copy\n",
      "  \n"
     ]
    }
   ],
   "source": [
    "#first, we cut out all the entries in our dataframe which don't fit the desired latitude/longitude.\n",
    "df = df[(df['y'] < max_lat) & (df['y'] > origin_lat) & (df['x'] < max_lon) & (df['x'] > origin_lon)]\n",
    "\n",
    "#next, we assign each row an x_bucket or y_bucket based upon its latitude and longitude.\n",
    "lon_step_size = abs(max_lon - origin_lon)/500\n",
    "lat_step_size = abs(max_lat - origin_lat)/500\n",
    "df['x_bucket'] = df['x'].apply(lambda x: abs(x - origin_lon)//lon_step_size)\n",
    "df['y_bucket'] = df['y'].apply(lambda y: abs(y - origin_lat)//lat_step_size)"
   ]
  },
  {
   "cell_type": "code",
   "execution_count": 13,
   "metadata": {},
   "outputs": [
    {
     "name": "stderr",
     "output_type": "stream",
     "text": [
      "/Users/gaoag/anaconda3/lib/python3.6/site-packages/ipykernel_launcher.py:5: FutureWarning: reshape is deprecated and will raise in a subsequent release. Please use .values.reshape(...) instead\n",
      "  \"\"\"\n",
      "/Users/gaoag/anaconda3/lib/python3.6/site-packages/sklearn/utils/validation.py:475: DataConversionWarning: Data with input dtype int64 was converted to float64 by MinMaxScaler.\n",
      "  warnings.warn(msg, DataConversionWarning)\n",
      "/Users/gaoag/anaconda3/lib/python3.6/site-packages/ipykernel_launcher.py:6: FutureWarning: reshape is deprecated and will raise in a subsequent release. Please use .values.reshape(...) instead\n",
      "  \n"
     ]
    }
   ],
   "source": [
    "# now, we groupby bucket and sum the level\n",
    "grouped = df.groupby(['x_bucket', 'y_bucket']).agg({'level':'sum'})\n",
    "# we normalize values on a 0-100 scale so we have a better notion of intensity\n",
    "scaler = MinMaxScaler(feature_range=(0,100))\n",
    "scaler.fit(grouped['level'].reshape(-1, 1))\n",
    "grouped['level'] = scaler.transform(grouped['level'].reshape(-1, 1))"
   ]
  },
  {
   "cell_type": "code",
   "execution_count": 14,
   "metadata": {},
   "outputs": [],
   "source": [
    "# now, we write out to file\n",
    "grouped.to_csv('./bucketed_intensity.csv')"
   ]
  },
  {
   "cell_type": "code",
   "execution_count": null,
   "metadata": {},
   "outputs": [],
   "source": [
    "# demonstrate how we can reverse lookup\n",
    "lookup_table = pd.read_csv('./bucketed_intensity.csv')\n",
    "\n",
    "# let's say you want to lookup an intensity for lat=19.4 lon=-99\n",
    "def lookup(lookup_table, x, y, origin_lon, origin_lat, lon_step_size, lat_step_size):\n",
    "    x_bucket = abs(x - origin_lon)//lon_step_size\n",
    "    y_bucket = abs(y - origin_lat)//lat_step_size\n",
    "    \n",
    "    lookup_table\n",
    "\n",
    "\n",
    "x = -99\n",
    "y = 19.4\n",
    "x_bucket = abs(x - origin_lon)//lon_step_size\n",
    "y_bucket = abs(y - origin_lat)//lat_step_size\n",
    "\n",
    "lookup_table"
   ]
  },
  {
   "cell_type": "code",
   "execution_count": null,
   "metadata": {},
   "outputs": [],
   "source": []
  }
 ],
 "metadata": {
  "kernelspec": {
   "display_name": "Python 3",
   "language": "python",
   "name": "python3"
  },
  "language_info": {
   "codemirror_mode": {
    "name": "ipython",
    "version": 3
   },
   "file_extension": ".py",
   "mimetype": "text/x-python",
   "name": "python",
   "nbconvert_exporter": "python",
   "pygments_lexer": "ipython3",
   "version": "3.6.4"
  }
 },
 "nbformat": 4,
 "nbformat_minor": 2
}
