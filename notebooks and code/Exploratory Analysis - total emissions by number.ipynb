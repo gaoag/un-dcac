{
 "cells": [
  {
   "cell_type": "code",
   "execution_count": 1,
   "metadata": {},
   "outputs": [],
   "source": [
    "import pandas as pd"
   ]
  },
  {
   "cell_type": "code",
   "execution_count": 3,
   "metadata": {},
   "outputs": [
    {
     "name": "stdout",
     "output_type": "stream",
     "text": [
      "159852001.0813118\n"
     ]
    }
   ],
   "source": [
    "total = 0\n",
    "#required: 140,000,000\n",
    "for chunk in pd.read_csv('/Volumes/Transcend/analysis_all_policies.csv', chunksize=1000000, names=['lon', 'lat', 'speed', 'uuid', 'roadtype', 'level', 'delay', 'length', 'epoch', 'datetime', \n",
    "        'CO2-Atm_base', 'CO2-Eq_base','CO_base','NOx_base','VOC_base','SO2_base','NH3_base','PM10_base','PM2.5_base',\n",
    "        'CO2-Atm_ldv', 'CO2-Eq_ldv','CO_ldv','NOx_ldv','VOC_ldv','SO2_ldv','NH3_ldv','PM10_ldv','PM2.5_ldv',\n",
    "        'CO2-Atm_bus', 'CO2-Eq_bus','CO_bus','NOx_bus','VOC_bus','SO2_bus','NH3_bus','PM10_bus','PM2.5_bus',\n",
    "        'CO2-Atm_taxi', 'CO2-Eq_taxi','CO_taxi','NOx_taxi','VOC_taxi','SO2_taxi','NH3_taxi','PM10_taxi','PM2.5_taxi']):\n",
    "    total += chunk['PM2.5_base'].sum()\n",
    "    \n",
    "print(total)\n",
    "    \n",
    "    "
   ]
  },
  {
   "cell_type": "code",
   "execution_count": 4,
   "metadata": {},
   "outputs": [
    {
     "name": "stdout",
     "output_type": "stream",
     "text": [
      "177768431.2307943 4666190172.935194 2086077.3851294685 50540.45919621405\n"
     ]
    }
   ],
   "source": [
    "totalp10 = 0\n",
    "totalnox = 0\n",
    "totalco2a = 0\n",
    "totalco2e = 0\n",
    "#required: 140,000,000\n",
    "for chunk in pd.read_csv('/Volumes/Transcend/analysis_all_policies.csv', chunksize=1000000, names=['lon', 'lat', 'speed', 'uuid', 'roadtype', 'level', 'delay', 'length', 'epoch', 'datetime', \n",
    "        'CO2-Atm_base', 'CO2-Eq_base','CO_base','NOx_base','VOC_base','SO2_base','NH3_base','PM10_base','PM2.5_base',\n",
    "        'CO2-Atm_ldv', 'CO2-Eq_ldv','CO_ldv','NOx_ldv','VOC_ldv','SO2_ldv','NH3_ldv','PM10_ldv','PM2.5_ldv',\n",
    "        'CO2-Atm_bus', 'CO2-Eq_bus','CO_bus','NOx_bus','VOC_bus','SO2_bus','NH3_bus','PM10_bus','PM2.5_bus',\n",
    "        'CO2-Atm_taxi', 'CO2-Eq_taxi','CO_taxi','NOx_taxi','VOC_taxi','SO2_taxi','NH3_taxi','PM10_taxi','PM2.5_taxi']):\n",
    "    total += chunk['PM10_base'].sum()\n",
    "    totalp10 += chunk['PM10_base'].sum()\n",
    "    totalnox += chunk['NOx_base'].sum()\n",
    "    totalco2a += chunk['CO2-Atm_base'].sum()\n",
    "    totalco2e += chunk['CO2-Eq_base'].sum()\n",
    "    \n",
    "print(totalp10, totalnox, totalco2a, totalco2e)"
   ]
  },
  {
   "cell_type": "code",
   "execution_count": null,
   "metadata": {},
   "outputs": [],
   "source": []
  }
 ],
 "metadata": {
  "kernelspec": {
   "display_name": "Python 3",
   "language": "python",
   "name": "python3"
  },
  "language_info": {
   "codemirror_mode": {
    "name": "ipython",
    "version": 3
   },
   "file_extension": ".py",
   "mimetype": "text/x-python",
   "name": "python",
   "nbconvert_exporter": "python",
   "pygments_lexer": "ipython3",
   "version": "3.6.4"
  }
 },
 "nbformat": 4,
 "nbformat_minor": 2
}
