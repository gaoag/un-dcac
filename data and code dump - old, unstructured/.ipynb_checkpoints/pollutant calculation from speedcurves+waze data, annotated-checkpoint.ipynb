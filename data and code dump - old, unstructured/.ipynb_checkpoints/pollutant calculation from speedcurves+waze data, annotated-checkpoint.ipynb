{
 "cells": [
  {
   "cell_type": "code",
   "execution_count": null,
   "metadata": {},
   "outputs": [],
   "source": [
    "from pandas.io.json import json_normalize\n",
    "import time\n",
    "import os\n",
    "from scipy import interpolate\n",
    "import json\n",
    "import numpy as np\n",
    "import pandas as pd\n",
    "import csv\n",
    "import dask.dataframe as dd\n"
   ]
  },
  {
   "cell_type": "code",
   "execution_count": null,
   "metadata": {},
   "outputs": [],
   "source": [
    "#this function takes in a speed curve file (with speed and pollutants in the rows) and returns a set of 'functions', \n",
    "#which are interpolated with linear spline interpoluation using scipy's interp1d function. they do NOT extrapolate, only interpolate between 0-80 KPH\n",
    "#functions take speed or a vector of speeds as an input to return a pollution amount. \n",
    "#can be arbitrarily interchanged w any pollutant/speed function.\n",
    "def emissionsFunctions(file):\n",
    "\n",
    "    pollutantFile = open(file, mode='r')\n",
    "    pollutantReader = csv.DictReader(pollutantFile)\n",
    "    interpolationData = {'speed': [], 'CO2-Atm':[], 'CO2-Eq':[], 'CO':[], 'NOx':[], 'VOC':[], 'SO2':[], 'NH3':[], 'PM10':[], 'PM2.5':[]}\n",
    "\n",
    "    for row in pollutantReader:\n",
    "        for key, value in row.items():\n",
    "            interpolationData[key].append(float(value))\n",
    "\n",
    "    interpolationFunctions = {}\n",
    "    interpolationFunctions['CO2-Atm'] = interpolate.interp1d(interpolationData['speed'], interpolationData['CO2-Atm'])\n",
    "    interpolationFunctions['CO2-Eq'] = interpolate.interp1d(interpolationData['speed'], interpolationData['CO2-Eq'])\n",
    "    interpolationFunctions['CO'] = interpolate.interp1d(interpolationData['speed'], interpolationData['CO'])\n",
    "    interpolationFunctions['NOx'] = interpolate.interp1d(interpolationData['speed'], interpolationData['NOx'])\n",
    "    interpolationFunctions['VOC'] = interpolate.interp1d(interpolationData['speed'], interpolationData['VOC'])\n",
    "    interpolationFunctions['SO2'] = interpolate.interp1d(interpolationData['speed'], interpolationData['SO2'])\n",
    "    interpolationFunctions['NH3'] = interpolate.interp1d(interpolationData['speed'], interpolationData['NH3'])\n",
    "    interpolationFunctions['PM10'] = interpolate.interp1d(interpolationData['speed'], interpolationData['PM10'])\n",
    "    interpolationFunctions['PM2.5'] = interpolate.interp1d(interpolationData['speed'], interpolationData['PM2.5'])\n",
    "\n",
    "    return interpolationFunctions"
   ]
  },
  {
   "cell_type": "code",
   "execution_count": null,
   "metadata": {},
   "outputs": [],
   "source": [
    "interpolationFunctions= {}\n",
    "interpolationFunctions[2] = emissionsFunctions('./speed_curves/base_roadtype_2_curve.csv') #whatever file is used to store the speed curves\n",
    "interpolationFunctions[3] = emissionsFunctions('./speed_curves/base_roadtype_3_curve.csv')\n",
    "interpolationFunctions[4] = emissionsFunctions('./speed_curves/base_roadtype_4_curve.csv')\n",
    "interpolationFunctions[5] = emissionsFunctions('./speed_curves/base_roadtype_5_curve.csv')\n",
    "#set of functions that can be indexed by roadtype+pollutant. each pollutant and roadtype has its own function.\n",
    "\n",
    "pollutantTypes = ['CO2-Atm', 'CO2-Eq', 'CO', 'NOx', 'VOC', 'SO2', 'NH3', 'PM10', 'PM2.5']\n",
    "\n",
    "roadtypemapping = {1:5, 2:5, 3:4, 4:4, 5:3, 6: 5, 7: 5, 17: 4} #this maps the speed curve roadtype (MOVES roadtypes) to the roadtypes in the waze data. \n",
    "#mapping can be found at https://paper.dropbox.com/doc/WAZE-API-5yK5F5OGXKAna1tGlJbYD, scrolling down to the road mapping portion"
   ]
  },
  {
   "cell_type": "markdown",
   "metadata": {},
   "source": [
    "# Calculating pollutants from raw Waze data and speed curves\n",
    "\n",
    "Now, we try to apply our speed curves to the Waze data to get emissions output. While we used 100 cars to construct our speed curves, we need to estimate how many cars will fit on each segment given to us by Waze. To do so, we use this formula:\n",
    "\n",
    "$$pollution = function(speed)/100 * (length/0.00160934) * (length*3/6) * 1000*speed/length$$, which outputs the emissions from that stretch of road over 1 hour. The explanation is below.\n",
    "\n",
    "The interpolate function gives us the emissions for a particular speed, given the parameters shown above. We divide it by 100 because the original speed curves were constructed assuming 100 cars, but we want to treat this as only one car for now. I can later go back and remake the speed curves to be for 1 car only (this is temporary; we will have to remake the curves anyways, since the moves_mexico DB was not complete on my dropbox).\n",
    "\n",
    "Then, scale by $length/0.00160934$. The original speed curves were done for a 1 mile road, but the waze data is in meters. since the emissions scale linearly with road length, we can just scale the emissions to a 1 meter road (the division by 0.016), and multiply by the length of the waze segment. Now, we have the emission for 1 car on the waze segment.\n",
    "\n",
    "Now, we scale up from one car to however many cars fit on the segment. The $length*3/6$ term assumes that each car takes up 6 meters, and there are on average 3 lanes (3 ‘rows’ of cars). After multiplying by that term, we have the emissions for the total number of cars that fit on the road at once. \n",
    "\n",
    "However, the speed curves/MOVES return the emissions for every vehicle that goes through the ENTIRE stretch of road. Even if, say, 1000 cars fit on the segment given to us by Waze, not all of them may make it through the road. We need to finally multiply by $1000*speed/length$. The speed is Km/h, so we multiply by 1000 to get meters per hour. Then, we divide by length to get $1/(time it takes to go through the road)$. This scales the amount of cars by how long it actually takes to traverse the road. For example: if there are 10 cars on a 100 meter stretch of road, and it takes 0.5 hours to go through that road, then after 1 hour, we would actually have had 20 cars go through that road.\n",
    "\n",
    "The result is the total amount of emissions from the line segment in 1 hour."
   ]
  },
  {
   "cell_type": "code",
   "execution_count": null,
   "metadata": {},
   "outputs": [],
   "source": [
    "#adjust 'chunksize' based on what the computer can handle. It was 1200000 on pedro's computer.\n",
    "addHeader = True\n",
    "for chunk in pd.read_csv('input.csv', chunksize=100000, index_col=False, names=['lat', 'lon', 'speed', 'uuid', 'roadtype', 'level', 'delay', 'length', 'epoch', 'datetime']):\n",
    "    chunk = chunk.drop_duplicates(['epoch', 'uuid'])\n",
    "    chunk.loc[chunk['speed'] == 0, 'speed'] = 0.01\n",
    "    grouped = chunk.groupby('roadtype') \n",
    "    \n",
    "    for roadtype, group in grouped:\n",
    "        speed = group['speed']\n",
    "        length = group['length']\n",
    "        for policy in ['base', 'ldv', 'bus', 'taxi']:            \n",
    "            #select set of functions to use based on the policy and the EPA/MOVES roadtype.\n",
    "            funcs = interpolationFunctions[policy][roadtypemapping[roadtype]]\n",
    "            func_co2atm, func_co2eq, func_co, func_nox, func_voc, func_so2, func_nh3, func_pm10, func_pm25 = funcs['CO2-Atm'], funcs['CO2-Eq'], funcs['CO'], funcs['NOx'], funcs['VOC'], funcs['SO2'], funcs['NH3'], funcs['PM10'], funcs['PM2.5']\n",
    "        \n",
    "        \n",
    "            #specific method explained in markdown cell above.\n",
    "            group['CO2-Atm' + '_' + policy] = func_co2atm(speed)*length*speed*0.00310686368\n",
    "            group['CO2-Eq' + '_' + policy] = func_co2eq(speed)*length*speed*0.00310686368\n",
    "            group['CO' + '_' + policy] = func_co(speed)*length*speed*0.00310686368\n",
    "            group['NOx' + '_' + policy] = func_nox(speed)*length*speed*0.00310686368\n",
    "            group['VOC' + '_' + policy] = func_voc(speed)*length*speed*0.00310686368\n",
    "            group['SO2' + '_' + policy] = func_so2(speed)*length*speed*0.00310686368\n",
    "            group['NH3' + '_' + policy] = func_nh3(speed)*length*speed*0.00310686368\n",
    "            group['PM10' + '_' + policy] = func_pm10(speed)*length*speed*0.00310686368\n",
    "            group['PM2.5' + '_' + policy] = func_pm25(speed)*length*speed*0.00310686368\n",
    "            \n",
    "        #now, write to csv. The dataframe written includes all the original columns as well as columns for every policy+pollutant combo (9*4=36 new columns)   \n",
    "        group.to_csv(path_or_buf='./output.csv', mode='a', index=False, header=addHeader)\n",
    "        addHeader = False"
   ]
  }
 ],
 "metadata": {
  "kernelspec": {
   "display_name": "Python 3",
   "language": "python",
   "name": "python3"
  },
  "language_info": {
   "codemirror_mode": {
    "name": "ipython",
    "version": 3
   },
   "file_extension": ".py",
   "mimetype": "text/x-python",
   "name": "python",
   "nbconvert_exporter": "python",
   "pygments_lexer": "ipython3",
   "version": "3.6.4"
  }
 },
 "nbformat": 4,
 "nbformat_minor": 2
}
