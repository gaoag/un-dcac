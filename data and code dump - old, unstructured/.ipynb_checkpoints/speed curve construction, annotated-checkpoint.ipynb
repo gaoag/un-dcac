{
 "cells": [
  {
   "cell_type": "markdown",
   "metadata": {},
   "source": [
    "# CONSTRUCTING SPEED CURVES FROM MOVES\n",
    "\n",
    "This is annotated file for code that constructs speed curves. This ONLY works on Python 2.7 due to the movespy.moves module. It should output one speed curve for each roadtype+policy combination (e.g. 4 roadtypes, 4 policies, = 16 speed curves)"
   ]
  },
  {
   "cell_type": "code",
   "execution_count": null,
   "metadata": {},
   "outputs": [],
   "source": [
    "import movespy.moves\n",
    "import os\n",
    "import csv\n",
    "import sys"
   ]
  },
  {
   "cell_type": "markdown",
   "metadata": {},
   "source": [
    "# Vehicle distribution data\n",
    "\n",
    "We define the distribution of vehicles in these 4 policy cases. The vehicle codes (31, 21, etc) are in the image below. The numbers are taken from the files found here https://paper.dropbox.com/doc/WAZE-API-5yK5F5OGXKAna1tGlJbYD - scroll down to the 'vehicle distribution data' section. We further define the age distribution for type 21 (passenger vehicles) and type 31 (light trucks) because that data is available to us. This is also in the dropbox link above in that same section, in a file posted by Pedro about a survey for age ranges."
   ]
  },
  {
   "cell_type": "code",
   "execution_count": 1,
   "metadata": {},
   "outputs": [],
   "source": [
    "ldv_dist = {31: 0.82671, 52: 0.009786, 53: 0.001312, 11: 0.145326, 42: 0.016866}\n",
    "bus_dist = {21: 0.5239439, 31: 0.400313, 52: 0.004738, 53: 0.0006351, 11: 0.07037} \n",
    "taxi_dist = {21: 0.501567, 31: 0.412061, 52: 0.0048774, 53: 0.00065379, 11: 0.07243501, 42: 0.00840580}\n",
    "baseline_dist = {21: 0.5197, 31: 0.39707, 52: 0.0047, 53: 0.00063, 11: 0.0698, 42: 0.0081}\n",
    "\n",
    "type_21_ages = {0:0.003295129, 1:0.031375358, 2:0.053724928, 3:0.060315186, 4:0.065902579, 5:0.070916905, 6:0.070630372, 7:0.08008596, 8:0.076217765, 9:0.065902579, 10:0.068051576, 11:0.053581662, 12:0.047277937, 13:0.036532951, 14:0.039398281, 15:0.027936963, 16:0.026790831, 17:0.024498567, 18:0.025071633, 19:0.016332378, 20:0.013180516, 21:0.012034384, 22:0.009025788, 23:0.006303725, 24:0.002578797, 25:0.003581662, 26:0.002292264, 27:0.001719198, 28:0.002005731, 29:0.001002865, 30:0.000859599, 31:0, 32:0.000286533, 33:0.000573066, 34:0.000143266, 35:0.000286533, 36:0.000143266, 37:0}\n",
    "type_31_ages = {0: 0.000886525, 1: 0.028368794, 2: 0.046985816, 3: 0.055407801, 4: 0.060283688, 5: 0.052526596, 6: 0.053191489, 7: 0.057624113, 8: 0.043661348, 9: 0.043218085, 10: 0.055407801, 11: 0.066932624, 12: 0.06981383, 13: 0.056515957, 14: 0.065824468, 15: 0.055407801, 16: 0.045212766, 17: 0.033244681, 18: 0.025044326, 19: 0.019281915, 20: 0.017952128, 21: 0.01285461, 22: 0.007092199, 23:0.008200355, 24: 0.005984043, 25: 0.004654255, 26: 0.00177305, 27: 0.001551418, 28: 0.002216312, 29: 0.001329787, 30: 0.000443262, 31: 0.000443262, 32: 0.0, 33: 0.0, 34: 0.0, 35: 0.0, 36: 0.000221631, 37: 0.000221631}"
   ]
  },
  {
   "cell_type": "markdown",
   "metadata": {},
   "source": [
    "## Moves Input\n",
    "\n",
    "Now, all we're doing is plugging the distributions above into movespy, and doing so for every combination of policy and roadtype. The assumptions u"
   ]
  },
  {
   "cell_type": "code",
   "execution_count": 6,
   "metadata": {},
   "outputs": [
    {
     "ename": "NameError",
     "evalue": "name 'movespy' is not defined",
     "output_type": "error",
     "traceback": [
      "\u001b[0;31m---------------------------------------------------------------------------\u001b[0m",
      "\u001b[0;31mNameError\u001b[0m                                 Traceback (most recent call last)",
      "\u001b[0;32m<ipython-input-6-5dea67745f78>\u001b[0m in \u001b[0;36m<module>\u001b[0;34m()\u001b[0m\n\u001b[1;32m     31\u001b[0m             \u001b[0moptions\u001b[0m \u001b[0;34m=\u001b[0m \u001b[0;34m{\u001b[0m\u001b[0;34m'detail'\u001b[0m\u001b[0;34m:\u001b[0m\u001b[0;34m'average'\u001b[0m\u001b[0;34m}\u001b[0m\u001b[0;34m\u001b[0m\u001b[0m\n\u001b[1;32m     32\u001b[0m \u001b[0;34m\u001b[0m\u001b[0m\n\u001b[0;32m---> 33\u001b[0;31m             \u001b[0mmoves\u001b[0m \u001b[0;34m=\u001b[0m \u001b[0mmovespy\u001b[0m\u001b[0;34m.\u001b[0m\u001b[0mmoves\u001b[0m\u001b[0;34m.\u001b[0m\u001b[0mMoves\u001b[0m\u001b[0;34m(\u001b[0m\u001b[0mactivity\u001b[0m\u001b[0;34m,\u001b[0m \u001b[0moptions\u001b[0m\u001b[0;34m)\u001b[0m\u001b[0;34m\u001b[0m\u001b[0m\n\u001b[0m\u001b[1;32m     34\u001b[0m \u001b[0;34m\u001b[0m\u001b[0m\n\u001b[1;32m     35\u001b[0m             \u001b[0memissions_out\u001b[0m\u001b[0;34m=\u001b[0m\u001b[0mmoves\u001b[0m\u001b[0;34m.\u001b[0m\u001b[0mrun\u001b[0m\u001b[0;34m(\u001b[0m\u001b[0;34m)\u001b[0m\u001b[0;34m\u001b[0m\u001b[0m\n",
      "\u001b[0;31mNameError\u001b[0m: name 'movespy' is not defined"
     ]
    }
   ],
   "source": [
    "dists = {'ldv': ldv_dist, 'bus':bus_dist, 'taxi':taxi_dist, 'base':baseline_dist}\n",
    "roadtypes = [2, 3, 4, 5]\n",
    "for policy, dist in dists.items():\n",
    "    for road in roadtypes:\n",
    "        writeFile = open(policy + str(road) + 'speed_curve.csv', 'w') #writes to something like 'ldv5speed_curve.csv'\n",
    "        writer = csv.DictWriter(writeFile, fieldnames=['speed','CO2-Atm','CO2-Eq','CO','PM10','VOC','SO2','PM2.5','NOx','NH3'])\n",
    "        for i in range(0, 81): #where i is the kph. This tests 0-80kph.\n",
    "            \n",
    "            #below is just the basic movespy setup according to https://github.com/RSGInc/movespy \n",
    "            #conversions are done to turn everything into miles, since movespy operates using mph/miles.\n",
    "            #some manual testing will reveal that volume and length scale the data linearly. Double length = double emissions, same with volume. Tested using factors of 10 (0.01, 0.1, 10, 100)\n",
    "            \n",
    "            link = {}\n",
    "            link_data = {}\n",
    "            link_data['grade'] = 0\n",
    "            link_data['length'] = 1 #units are in miles\n",
    "            link_data['road_type'] = road\n",
    "            link_data['source_distr'] = dist\n",
    "            link_data['speed'] = i*0.62137 #conversion to mph\n",
    "            link_data['volume'] = 100 \n",
    "            link[1] = link_data\n",
    "            \n",
    "            #the day_type is 5, meaning 'average weekday'\n",
    "            #the county is 9002. This is selected from manual inspection of the mysql tables (run 'select * from county', counties with \n",
    "            #IDs from 9001-9015 all fall within Mexico City boundaries. Manual testing showed that all of them return the same results, so we can arbitrarily select one)\n",
    "            activity = {'age_distr': {},'day_type': 5,'county': 9002,'hour':4,'month': 9,'year': 2017,'links': link}\n",
    "            activity['age_distr'][21] = type_21_ages\n",
    "            activity['age_distr'][31] = type_31_ages\n",
    "\n",
    "            options = {'detail':'average'}\n",
    "\n",
    "            moves = movespy.moves.Moves(activity, options)\n",
    "\n",
    "            emissions_out=moves.run()\n",
    "            \n",
    "            temp = [row for row in emissions_out]\n",
    "            #following codes (2, 3, 87, etc) identified from manual inspection of mysql tables \n",
    "            #run 'select * from pollutant', look at pollutantIDs\n",
    "            emission_list = [row for row in temp if (row['pollutant'] in [2, 3, 87, 31, 30, 55,56,100, 110])]\n",
    "            pollutantMap = {55: 'CO2-Atm', 56: 'CO2-Eq', 2: 'CO', 3: 'NOx', 87: 'VOC', 31:'SO2', 30:'NH3', 100:'PM10', 110:'PM2.5'}\n",
    "            write_dict = {'speed': i}\n",
    "            for emission_dict in emission_list:\n",
    "                write_dict[pollutantMap[emission_dict['pollutant']]] = emission_dict['quantity']  \n",
    "            writer.writerow(write_dict)\n",
    "        writeFile.close()"
   ]
  },
  {
   "cell_type": "code",
   "execution_count": null,
   "metadata": {},
   "outputs": [],
   "source": []
  }
 ],
 "metadata": {
  "kernelspec": {
   "display_name": "Python 3",
   "language": "python",
   "name": "python3"
  },
  "language_info": {
   "codemirror_mode": {
    "name": "ipython",
    "version": 3
   },
   "file_extension": ".py",
   "mimetype": "text/x-python",
   "name": "python",
   "nbconvert_exporter": "python",
   "pygments_lexer": "ipython3",
   "version": "3.6.4"
  }
 },
 "nbformat": 4,
 "nbformat_minor": 2
}
